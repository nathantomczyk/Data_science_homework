{
 "cells": [
  {
   "cell_type": "markdown",
   "id": "19c2f8dd",
   "metadata": {},
   "source": [
    "# Data Science Tools and Ecosystem"
   ]
  },
  {
   "cell_type": "markdown",
   "id": "c01ac5c1",
   "metadata": {},
   "source": [
    "In this notebook, Data Science Tools and Ecosystem are summarized"
   ]
  },
  {
   "cell_type": "markdown",
   "id": "2fcd682e",
   "metadata": {},
   "source": [
    "**Objectives**\n",
    "* list popular languages in data science\n",
    "* Common libraries in data science\n",
    "* Common development environemnts in data science\n",
    "* Evaluating arithimetic expressions"
   ]
  },
  {
   "cell_type": "markdown",
   "id": "2f3df75e",
   "metadata": {},
   "source": [
    "Some of the populat languages that Data Scientists use are: \n",
    "1. R \n",
    "2. python \n",
    "3. Julia \n",
    "4. C++"
   ]
  },
  {
   "cell_type": "markdown",
   "id": "7da58d40",
   "metadata": {},
   "source": [
    "Some of libraries commonly used by data scientists include:\n",
    "1. matplotlib\n",
    "2. pandas\n",
    "3. scikit-learn"
   ]
  },
  {
   "cell_type": "markdown",
   "id": "2ee61ef1",
   "metadata": {},
   "source": [
    "| Data Science Tools |\n",
    "|--------------------|\n",
    "| jupyter notebook |\n",
    "| spyder |\n",
    "| Rstudio |"
   ]
  },
  {
   "cell_type": "markdown",
   "id": "3733c255",
   "metadata": {},
   "source": [
    "### Below are a few examples of evaluating arithmietic expressions in Python"
   ]
  },
  {
   "cell_type": "code",
   "execution_count": 2,
   "id": "79a6f56a",
   "metadata": {},
   "outputs": [
    {
     "data": {
      "text/plain": [
       "17"
      ]
     },
     "execution_count": 2,
     "metadata": {},
     "output_type": "execute_result"
    }
   ],
   "source": [
    "# This is a simple arithmetic expression to mutiply then add integers\n",
    "(3*4)+5"
   ]
  },
  {
   "cell_type": "code",
   "execution_count": 3,
   "id": "6bb85d21",
   "metadata": {},
   "outputs": [
    {
     "data": {
      "text/plain": [
       "3.3333333333333335"
      ]
     },
     "execution_count": 3,
     "metadata": {},
     "output_type": "execute_result"
    }
   ],
   "source": [
    "# This will convert 200 minutes to hours by dividing by 60\n",
    "m_in_hr=60.\n",
    "m=200.\n",
    "m/m_in_hr"
   ]
  },
  {
   "cell_type": "markdown",
   "id": "57943627",
   "metadata": {},
   "source": [
    "## Author\n",
    "Nathan Tomczyk"
   ]
  },
  {
   "cell_type": "code",
   "execution_count": null,
   "id": "d6e86b33",
   "metadata": {},
   "outputs": [],
   "source": []
  }
 ],
 "metadata": {
  "kernelspec": {
   "display_name": "Python 3 (ipykernel)",
   "language": "python",
   "name": "python3"
  },
  "language_info": {
   "codemirror_mode": {
    "name": "ipython",
    "version": 3
   },
   "file_extension": ".py",
   "mimetype": "text/x-python",
   "name": "python",
   "nbconvert_exporter": "python",
   "pygments_lexer": "ipython3",
   "version": "3.9.13"
  }
 },
 "nbformat": 4,
 "nbformat_minor": 5
}
